{
  "nbformat": 4,
  "nbformat_minor": 0,
  "metadata": {
    "colab": {
      "provenance": [],
      "include_colab_link": true
    },
    "kernelspec": {
      "name": "python3",
      "display_name": "Python 3"
    },
    "language_info": {
      "name": "python"
    }
  },
  "cells": [
    {
      "cell_type": "markdown",
      "metadata": {
        "id": "view-in-github",
        "colab_type": "text"
      },
      "source": [
        "<a href=\"https://colab.research.google.com/github/ashutosh12mar/Foreign-Key-Web/blob/main/Polyfit_Demo.ipynb\" target=\"_parent\"><img src=\"https://colab.research.google.com/assets/colab-badge.svg\" alt=\"Open In Colab\"/></a>"
      ]
    },
    {
      "cell_type": "markdown",
      "source": [
        "**Polyfit Demo**\n",
        "\n",
        "[Documentation](https://numpy.org/doc/stable/reference/generated/numpy.polyfit.html)"
      ],
      "metadata": {
        "id": "RdOrBaoIMa1s"
      }
    },
    {
      "cell_type": "code",
      "source": [
        "import numpy\n",
        "import matplotlib.pyplot as plt\n",
        "from sklearn.metrics import r2_score\n"
      ],
      "metadata": {
        "id": "r3443V2pH05Y"
      },
      "execution_count": 3,
      "outputs": []
    },
    {
      "cell_type": "code",
      "execution_count": 5,
      "metadata": {
        "colab": {
          "base_uri": "https://localhost:8080/",
          "height": 371
        },
        "id": "oh7xsa6tC4f4",
        "outputId": "ffe59e96-36ab-49eb-efad-8bf7a8d321d8"
      },
      "outputs": [
        {
          "output_type": "stream",
          "name": "stdout",
          "text": [
            "fit [ 0.38181818 21.2       ]\n",
            "model= [21.58181818 21.96363636 22.34545455 22.72727273 23.10909091 23.49090909\n",
            " 23.87272727 24.25454545 24.63636364 25.01818182]\n",
            "Correlation 6.533010715520238\n"
          ]
        },
        {
          "output_type": "display_data",
          "data": {
            "text/plain": [
              "<Figure size 432x288 with 1 Axes>"
            ],
            "image/png": "[encoded data removed]"
          },
          "metadata": {
            "needs_background": "light"
          }
        },
        {
          "output_type": "stream",
          "name": "stdout",
          "text": [
            "Predicted 22.727272727272723\n"
          ]
        }
      ],
      "source": [
        "\n",
        "x = [1,2,3,4,5,6,7,8,9,10]\n",
        "y = [24,22,21,23,25,25,12,26,27,28]\n",
        "#print(numpy.linspace(1,101,11))\n",
        "# model = numpy.poly1d(numpy.polyfit(x, y, 4))\n",
        "# print(\"model=\",model(x))\n",
        "pf = numpy.polyfit(x, y, 1)\n",
        "print(\"fit\",pf)\n",
        "model=numpy.poly1d(pf)\n",
        "print(\"model=\",model(x))\n",
        "plotx =[-1,0,1,2,3,4,5,6,7]# numpy.linspace(1, 22, 100)\n",
        "correlation=r2_score(y, model(x))\n",
        "print(\"Correlation\",correlation *100)\n",
        "plt.scatter(x,y,color=\"yellow\")\n",
        "plt.plot(x,y,\"b-\",label=\"Original\")\n",
        "plt.plot(plotx, model(plotx),\"r-\",label=\"Predicted\")\n",
        "plt.ylabel('temperture')\n",
        "plt.xlabel('date')\n",
        "plt.legend()\n",
        "plt.show()\n",
        "xvalue=4\n",
        "predict=model(xvalue)\n",
        "print(\"Predicted\",predict)"
      ]
    },
    {
      "cell_type": "code",
      "source": [],
      "metadata": {
        "id": "-Fi2O5soH03C"
      },
      "execution_count": null,
      "outputs": []
    },
    {
      "cell_type": "code",
      "source": [],
      "metadata": {
        "id": "aJEpjwfSHhQb"
      },
      "execution_count": null,
      "outputs": []
    }
  ]
}