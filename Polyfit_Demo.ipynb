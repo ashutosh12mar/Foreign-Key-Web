{
  "nbformat": 4,
  "nbformat_minor": 0,
  "metadata": {
    "colab": {
      "provenance": [],
      "include_colab_link": true
    },
    "kernelspec": {
      "name": "python3",
      "display_name": "Python 3"
    },
    "language_info": {
      "name": "python"
    }
  },
  "cells": [
    {
      "cell_type": "markdown",
      "metadata": {
        "id": "view-in-github",
        "colab_type": "text"
      },
      "source": [
        "<a href=\"https://colab.research.google.com/github/ashutosh12mar/Foreign-Key-Web/blob/main/Polyfit_Demo.ipynb\" target=\"_parent\"><img src=\"https://colab.research.google.com/assets/colab-badge.svg\" alt=\"Open In Colab\"/></a>"
      ]
    },
    {
      "cell_type": "markdown",
      "source": [
        "**Polyfit Demo**\n",
        "\n",
        "[Documentation](https://numpy.org/doc/stable/reference/generated/numpy.polyfit.html)"
      ],
      "metadata": {
        "id": "RdOrBaoIMa1s"
      }
    },
    {
      "cell_type": "code",
      "source": [
        "import numpy\n",
        "import matplotlib.pyplot as plt\n",
        "from sklearn.metrics import r2_score\n"
      ],
      "metadata": {
        "id": "r3443V2pH05Y"
      },
      "execution_count": 10,
      "outputs": []
    },
    {
      "cell_type": "code",
      "execution_count": 13,
      "metadata": {
        "colab": {
          "base_uri": "https://localhost:8080/",
          "height": 408
        },
        "id": "oh7xsa6tC4f4",
        "outputId": "75c3736a-3c33-47ce-878a-01bc8fbae338"
      },
      "outputs": [
        {
          "output_type": "stream",
          "name": "stdout",
          "text": [
            "fit [ 4.81426367e-03 -2.23859127e-01  4.39862765e+00 -4.75604167e+01\n",
            "  3.08836516e+02 -1.23403854e+03  2.99062036e+03 -4.17367718e+03\n",
            "  3.01363968e+03 -8.38000000e+02]\n",
            "model= [24.         22.         51.         23.         25.         39.\n",
            " 12.         26.00000001 27.         27.99999999]\n",
            "Correlation 100.0\n"
          ]
        },
        {
          "output_type": "display_data",
          "data": {
            "text/plain": [
              "<Figure size 432x288 with 1 Axes>"
            ],
            "image/png": "[encoded data removed]"
          },
          "metadata": {
            "needs_background": "light"
          }
        },
        {
          "output_type": "stream",
          "name": "stdout",
          "text": [
            "Predicted 23.00000000025011\n"
          ]
        }
      ],
      "source": [
        "\n",
        "x = [1,2,3,4,5,6,7,8,9,10]\n",
        "y = [24,22,51,23,25,39,12,26,27,28]\n",
        "#print(numpy.linspace(1,101,11))\n",
        "# model = numpy.poly1d(numpy.polyfit(x, y, 4))\n",
        "# print(\"model=\",model(x))\n",
        "pf = numpy.polyfit(x, y, 9)\n",
        "int=9\n",
        "for i in range(10,0,1):\n",
        "  print(i)\n",
        "print(\"fit\",pf)\n",
        "model=numpy.poly1d(pf)\n",
        "print(\"model=\",model(x))\n",
        "plotx =[1,2,3,4,5,6,7,8,9,10]# numpy.linspace(1, 22, 100)\n",
        "correlation=r2_score(y, model(x))\n",
        "print(\"Correlation\",correlation *100)\n",
        "plt.scatter(x,y,color=\"yellow\")\n",
        "plt.plot(x,y,\"b-\",label=\"Original\")\n",
        "plt.plot(plotx, model(plotx),\"r-\",label=\"Predicted\")\n",
        "plt.ylabel('temperture')\n",
        "plt.xlabel('date')\n",
        "plt.legend()\n",
        "plt.show()\n",
        "xvalue=4\n",
        "predict=model(xvalue)\n",
        "print(\"Predicted\",predict)"
      ]
    },
    {
      "cell_type": "code",
      "source": [],
      "metadata": {
        "id": "-Fi2O5soH03C"
      },
      "execution_count": null,
      "outputs": []
    },
    {
      "cell_type": "code",
      "source": [],
      "metadata": {
        "id": "aJEpjwfSHhQb"
      },
      "execution_count": null,
      "outputs": []
    }
  ]
}