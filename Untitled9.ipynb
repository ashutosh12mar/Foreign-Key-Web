{
  "nbformat": 4,
  "nbformat_minor": 0,
  "metadata": {
    "colab": {
      "provenance": [],
      "authorship_tag": "ABX9TyPcfVgnU/mjOoMelxdOk370",
      "include_colab_link": true
    },
    "kernelspec": {
      "name": "python3",
      "display_name": "Python 3"
    },
    "language_info": {
      "name": "python"
    }
  },
  "cells": [
    {
      "cell_type": "markdown",
      "metadata": {
        "id": "view-in-github",
        "colab_type": "text"
      },
      "source": [
        "<a href=\"https://colab.research.google.com/github/ashutosh12mar/Foreign-Key-Web/blob/main/Untitled9.ipynb\" target=\"_parent\"><img src=\"https://colab.research.google.com/assets/colab-badge.svg\" alt=\"Open In Colab\"/></a>"
      ]
    },
    {
      "cell_type": "code",
      "execution_count": 2,
      "metadata": {
        "colab": {
          "base_uri": "https://localhost:8080/"
        },
        "id": "GGXl4OeKwUsF",
        "outputId": "1c89bd05-5e4c-4313-a24a-3f1b602af2de"
      },
      "outputs": [
        {
          "name": "stdout",
          "output_type": "stream",
          "text": [
            "what is your name,dear stringerPopat\n"
          ]
        }
      ],
      "source": [
        "Usrname=input('what is your name,dear stringer')"
      ]
    },
    {
      "cell_type": "code",
      "source": [
        "name=input('what is your name,dear stringer')\n",
        "if len(name)>0:\n",
        "  print(\"Hello\",name,\"!\")\n",
        "else:\n",
        "  print(\"Hello\",\"word!\")\n"
      ],
      "metadata": {
        "colab": {
          "base_uri": "https://localhost:8080/"
        },
        "id": "VJNqs2Ws9x0Y",
        "outputId": "3945ae6e-cda7-4dd6-b701-ceadf75008a2"
      },
      "execution_count": 3,
      "outputs": [
        {
          "output_type": "stream",
          "name": "stdout",
          "text": [
            "what is your name,dear stringerashutosh\n",
            "Hello ashutosh !\n"
          ]
        }
      ]
    },
    {
      "cell_type": "code",
      "source": [],
      "metadata": {
        "id": "XE2zChtC_uuF"
      },
      "execution_count": null,
      "outputs": []
    }
  ]
}