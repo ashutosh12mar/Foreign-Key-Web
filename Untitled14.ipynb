{
  "nbformat": 4,
  "nbformat_minor": 0,
  "metadata": {
    "colab": {
      "provenance": [],
      "authorship_tag": "ABX9TyMjf4c6rTnXkAB8nP+ve3v3",
      "include_colab_link": true
    },
    "kernelspec": {
      "name": "python3",
      "display_name": "Python 3"
    },
    "language_info": {
      "name": "python"
    }
  },
  "cells": [
    {
      "cell_type": "markdown",
      "metadata": {
        "id": "view-in-github",
        "colab_type": "text"
      },
      "source": [
        "<a href=\"https://colab.research.google.com/github/ashutosh12mar/Foreign-Key-Web/blob/main/Untitled14.ipynb\" target=\"_parent\"><img src=\"https://colab.research.google.com/assets/colab-badge.svg\" alt=\"Open In Colab\"/></a>"
      ]
    },
    {
      "cell_type": "code",
      "execution_count": 1,
      "metadata": {
        "id": "xlLL1YuhOOSc"
      },
      "outputs": [],
      "source": [
        "from scipy import stats\n",
        "import matplotlib.pyplot as plt"
      ]
    },
    {
      "cell_type": "code",
      "source": [
        "x = [1,2,3,4]\n",
        "y = [2,1,3,4]\n",
        "\n",
        "slope, intercept, r, p, std_err = stats.linregress(x, y)\n",
        "print(\"Slope=\",slope,\", Intercept=\",intercept,\", r =\",r,\",p=\",p,\"stderr=\",std_err)"
      ],
      "metadata": {
        "colab": {
          "base_uri": "https://localhost:8080/"
        },
        "id": "ARjfHSjfOZ7t",
        "outputId": "4b476892-9667-413f-fbed-4a93bfe4a418"
      },
      "execution_count": 9,
      "outputs": [
        {
          "output_type": "stream",
          "name": "stdout",
          "text": [
            "Slope= 0.8 , Intercept= 0.5 , r = 0.8 ,p= 0.1999999999999999 stderr= 0.42426406871192845\n"
          ]
        }
      ]
    },
    {
      "cell_type": "code",
      "source": [
        "\n",
        "def linefunc(x):\n",
        "  return slope * x + intercept\n",
        "\n",
        "model = list(map(linefunc, x))\n",
        "print(\"model\",model)\n",
        "print(r)\n",
        "xvalue=10\n",
        "predictedy=linefunc(xvalue)\n",
        "print(\"Y=\",predictedy)\n",
        "plt.scatter(x, y)\n",
        "plt.plot(x, model)\n",
        "plt.show()"
      ],
      "metadata": {
        "colab": {
          "base_uri": "https://localhost:8080/",
          "height": 320
        },
        "id": "-f4ZQdLEOwSc",
        "outputId": "8ec961ca-b5d3-4184-d5f4-49278e73fd57"
      },
      "execution_count": 10,
      "outputs": [
        {
          "output_type": "stream",
          "name": "stdout",
          "text": [
            "model [1.3, 2.1, 2.9000000000000004, 3.7]\n",
            "0.8\n",
            "Y= 8.5\n"
          ]
        },
        {
          "output_type": "display_data",
          "data": {
            "text/plain": [
              "<Figure size 432x288 with 1 Axes>"
            ],
            "image/png": "[encoded data removed]"
          },
          "metadata": {
            "needs_background": "light"
          }
        }
      ]
    }
  ]
}