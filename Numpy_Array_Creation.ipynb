{
  "nbformat": 4,
  "nbformat_minor": 0,
  "metadata": {
    "colab": {
      "provenance": [],
      "authorship_tag": "ABX9TyMy6EELjvfqxvCaJbo7Lg5c",
      "include_colab_link": true
    },
    "kernelspec": {
      "name": "python3",
      "display_name": "Python 3"
    },
    "language_info": {
      "name": "python"
    }
  },
  "cells": [
    {
      "cell_type": "markdown",
      "metadata": {
        "id": "view-in-github",
        "colab_type": "text"
      },
      "source": [
        "<a href=\"https://colab.research.google.com/github/ashutosh12mar/Foreign-Key-Web/blob/main/Numpy_Array_Creation.ipynb\" target=\"_parent\"><img src=\"https://colab.research.google.com/assets/colab-badge.svg\" alt=\"Open In Colab\"/></a>"
      ]
    },
    {
      "cell_type": "code",
      "execution_count": 11,
      "metadata": {
        "id": "_XtvdhwdKI_9"
      },
      "outputs": [],
      "source": [
        "import numpy as np"
      ]
    },
    {
      "cell_type": "code",
      "source": [
        "a=np.array([1,2,3,4,5])\n",
        "print(a)\n",
        "# a///=\n",
        "print(type(a))"
      ],
      "metadata": {
        "colab": {
          "base_uri": "https://localhost:8080/"
        },
        "id": "GvX3shvZKuGB",
        "outputId": "e1a3f9fe-b98f-42ce-b6b8-61e53b48cb6c"
      },
      "execution_count": 20,
      "outputs": [
        {
          "output_type": "stream",
          "name": "stdout",
          "text": [
            "[1 2 3 4 5]\n",
            "<class 'numpy.ndarray'>\n"
          ]
        }
      ]
    },
    {
      "cell_type": "markdown",
      "source": [
        "**Create an array using tuple**"
      ],
      "metadata": {
        "id": "iiJKX3WgUBbQ"
      }
    },
    {
      "cell_type": "code",
      "source": [
        "a = np.array((1, 2, 3, 4, 5))\n",
        "print(a)"
      ],
      "metadata": {
        "colab": {
          "base_uri": "https://localhost:8080/"
        },
        "id": "rPJGQihAUIgM",
        "outputId": "3ff007ff-14e5-44ef-b804-46161a431358"
      },
      "execution_count": 13,
      "outputs": [
        {
          "output_type": "stream",
          "name": "stdout",
          "text": [
            "[1 2 3 4 5]\n"
          ]
        }
      ]
    },
    {
      "cell_type": "code",
      "source": [],
      "metadata": {
        "id": "yxEz5lttU8w8"
      },
      "execution_count": null,
      "outputs": []
    },
    {
      "cell_type": "markdown",
      "source": [
        "**Double-click (or enter) to edit**"
      ],
      "metadata": {
        "id": "6u3TkC_FU9iC"
      }
    },
    {
      "cell_type": "markdown",
      "source": [
        "Create an array using set"
      ],
      "metadata": {
        "id": "yIfzdU4TVj9S"
      }
    },
    {
      "cell_type": "code",
      "source": [
        "a = np.array({1,2,3,4,5})\n",
        "print(a)"
      ],
      "metadata": {
        "colab": {
          "base_uri": "https://localhost:8080/"
        },
        "id": "6USIBW57VEJ9",
        "outputId": "4eba83d2-f0f1-47d7-8c2a-2680b15d6ea6"
      },
      "execution_count": 14,
      "outputs": [
        {
          "output_type": "stream",
          "name": "stdout",
          "text": [
            "{1, 2, 3, 4, 5}\n"
          ]
        }
      ]
    },
    {
      "cell_type": "markdown",
      "source": [
        "\n",
        "Double-click (or enter) to edit"
      ],
      "metadata": {
        "id": "9k6bT0wfVwfC"
      }
    },
    {
      "cell_type": "markdown",
      "source": [
        "\n",
        "Create an array using dictionary"
      ],
      "metadata": {
        "id": "emJUQTMyVx_9"
      }
    },
    {
      "cell_type": "code",
      "source": [
        "a = np.array({\"one\":1,\"two\":2,\"three\":3,\"four\":4,\"five\":5})\n",
        "print(a)"
      ],
      "metadata": {
        "colab": {
          "base_uri": "https://localhost:8080/"
        },
        "id": "eWt3W4OUV116",
        "outputId": "6c5d9893-e441-4bf5-b231-0452d18932c6"
      },
      "execution_count": 15,
      "outputs": [
        {
          "output_type": "stream",
          "name": "stdout",
          "text": [
            "{'one': 1, 'two': 2, 'three': 3, 'four': 4, 'five': 5}\n"
          ]
        }
      ]
    },
    {
      "cell_type": "markdown",
      "source": [
        "Double-click (or enter) to edit"
      ],
      "metadata": {
        "id": "GzL7M66UWM3L"
      }
    },
    {
      "cell_type": "markdown",
      "source": [
        "Create an array using range"
      ],
      "metadata": {
        "id": "oALC-LlPWONx"
      }
    },
    {
      "cell_type": "code",
      "source": [
        "a = np.array(range(1,6))\n",
        "print(a)"
      ],
      "metadata": {
        "colab": {
          "base_uri": "https://localhost:8080/"
        },
        "id": "o62hmZjCWRct",
        "outputId": "4785d1e8-3383-4265-8e9a-a3f771df3b6e"
      },
      "execution_count": 16,
      "outputs": [
        {
          "output_type": "stream",
          "name": "stdout",
          "text": [
            "[1 2 3 4 5]\n"
          ]
        }
      ]
    },
    {
      "cell_type": "markdown",
      "source": [
        "Double-click(or enter)to edit"
      ],
      "metadata": {
        "id": "dbQ5Bco-ZEB7"
      }
    },
    {
      "cell_type": "code",
      "source": [
        "for i in range(1,6,1):\n",
        "  print(i,end=' ,')\n"
      ],
      "metadata": {
        "colab": {
          "base_uri": "https://localhost:8080/"
        },
        "id": "X6sW8xqSZi8U",
        "outputId": "c23e0623-d838-490e-d7f9-7190c5245841"
      },
      "execution_count": 21,
      "outputs": [
        {
          "output_type": "stream",
          "name": "stdout",
          "text": [
            "1 ,2 ,3 ,4 ,5 ,"
          ]
        }
      ]
    },
    {
      "cell_type": "markdown",
      "source": [
        "Create an array using ones"
      ],
      "metadata": {
        "id": "noH9cfjpaIov"
      }
    },
    {
      "cell_type": "code",
      "source": [
        "a=np.ones(5)\n",
        "print(a)"
      ],
      "metadata": {
        "colab": {
          "base_uri": "https://localhost:8080/"
        },
        "id": "aQsbhhI4aaOL",
        "outputId": "982da36e-751a-4af0-a51c-ac8bdd560bb2"
      },
      "execution_count": 22,
      "outputs": [
        {
          "output_type": "stream",
          "name": "stdout",
          "text": [
            "[1. 1. 1. 1. 1.]\n"
          ]
        }
      ]
    },
    {
      "cell_type": "markdown",
      "source": [
        "Double-click(or enter)to edit"
      ],
      "metadata": {
        "id": "7wZiM1PgcI06"
      }
    },
    {
      "cell_type": "markdown",
      "source": [
        "Create an array using arange"
      ],
      "metadata": {
        "id": "KqHHXMWvcSZA"
      }
    },
    {
      "cell_type": "code",
      "source": [
        "a = np.arange(5)\n",
        "print(a)\n",
        "a = np.arange(1,6)\n",
        "print(a)\n",
        "a = np.arange(1,6,2)\n",
        "print(a)\n",
        "a = np.arange(5,0,-1)\n",
        "print(a)"
      ],
      "metadata": {
        "colab": {
          "base_uri": "https://localhost:8080/"
        },
        "id": "XSGINWmPc5ZJ",
        "outputId": "55084e9d-caa2-4b89-e711-05c863f09eb0"
      },
      "execution_count": 23,
      "outputs": [
        {
          "output_type": "stream",
          "name": "stdout",
          "text": [
            "[0 1 2 3 4]\n",
            "[1 2 3 4 5]\n",
            "[1 3 5]\n",
            "[5 4 3 2 1]\n"
          ]
        }
      ]
    },
    {
      "cell_type": "markdown",
      "source": [
        "Create an array using random"
      ],
      "metadata": {
        "id": "KIvbpzL_kMEX"
      }
    },
    {
      "cell_type": "code",
      "source": [
        "a=np.random.rand(1,8)\n",
        "print(a)\n",
        "a=np.random.power(5,5)\n",
        "print(a)\n",
        "a=np.random.randint(5,size=5)\n",
        "print(a)\n",
        "rng = np.random.default_rng()\n",
        "a =rng.integers(5,size=5)\n",
        "print(a)"
      ],
      "metadata": {
        "colab": {
          "base_uri": "https://localhost:8080/"
        },
        "id": "8mgUQdhukNnk",
        "outputId": "ac0be034-7f72-42ba-a3c3-21ab5bd7f5cd"
      },
      "execution_count": 27,
      "outputs": [
        {
          "output_type": "stream",
          "name": "stdout",
          "text": [
            "[[0.64862309 0.43679699 0.02381715 0.35308093 0.72872936 0.95443757\n",
            "  0.34895569 0.28075936]]\n",
            "[0.96485466 0.67568068 0.75571839 0.80254711 0.96412562]\n",
            "[0 1 2 3 1]\n",
            "[3 4 3 0 2]\n"
          ]
        }
      ]
    }
  ]
}