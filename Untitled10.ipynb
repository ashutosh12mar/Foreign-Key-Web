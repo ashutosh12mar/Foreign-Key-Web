{
  "nbformat": 4,
  "nbformat_minor": 0,
  "metadata": {
    "colab": {
      "provenance": [],
      "authorship_tag": "ABX9TyOxKhOk2V0sY4AAIrFr8dPV",
      "include_colab_link": true
    },
    "kernelspec": {
      "name": "python3",
      "display_name": "Python 3"
    },
    "language_info": {
      "name": "python"
    }
  },
  "cells": [
    {
      "cell_type": "markdown",
      "metadata": {
        "id": "view-in-github",
        "colab_type": "text"
      },
      "source": [
        "<a href=\"https://colab.research.google.com/github/ashutosh12mar/Foreign-Key-Web/blob/main/Untitled10.ipynb\" target=\"_parent\"><img src=\"https://colab.research.google.com/assets/colab-badge.svg\" alt=\"Open In Colab\"/></a>"
      ]
    },
    {
      "cell_type": "code",
      "execution_count": 1,
      "metadata": {
        "id": "ba7CPVteN2x6"
      },
      "outputs": [],
      "source": [
        "from scipy import stats\n",
        "import matplotlib.pyplot as plt"
      ]
    },
    {
      "cell_type": "code",
      "source": [
        "x=[1,2,3]\n",
        "y=[6,9,8]\n",
        "\n",
        "slope, intercept, r, p, std_err = stats.linregress(x, y)\n",
        "print(\"Slope=\",slope,\", Intercept=\",intercept,\", r =\",r,\",p=\",p,\"stderr=\",std_err)"
      ],
      "metadata": {
        "colab": {
          "base_uri": "https://localhost:8080/"
        },
        "id": "hdLjQIYrOKWM",
        "outputId": "c40a745a-5ec3-4963-dba5-1219dad20a2d"
      },
      "execution_count": 22,
      "outputs": [
        {
          "output_type": "stream",
          "name": "stdout",
          "text": [
            "Slope= 1.0 , Intercept= 5.666666666666667 , r = 0.6546536707079772 ,p= 0.54562894834299 stderr= 1.1547005383792515\n"
          ]
        }
      ]
    },
    {
      "cell_type": "code",
      "source": [
        "def linefunc(x):\n",
        "  return slope * x + intercept\n",
        "\n",
        "model = list(map(linefunc, x))\n",
        "print(\"model\",model)\n",
        "print(r)\n",
        "xvalue=32\n",
        "predictedy=linefunc(xvalue)\n",
        "print(\"Y=\",predictedy)\n",
        "plt.scatter(x, y)\n",
        "plt.plot(x, model)\n",
        "plt.show()"
      ],
      "metadata": {
        "colab": {
          "base_uri": "https://localhost:8080/",
          "height": 317
        },
        "id": "n1f3_jkHReW9",
        "outputId": "6b53fe54-e9a1-4875-d303-5dc594c658eb"
      },
      "execution_count": 23,
      "outputs": [
        {
          "output_type": "stream",
          "name": "stdout",
          "text": [
            "model [6.666666666666667, 7.666666666666667, 8.666666666666668]\n",
            "0.6546536707079772\n",
            "Y= 37.666666666666664\n"
          ]
        },
        {
          "output_type": "display_data",
          "data": {
            "text/plain": [
              "<Figure size 432x288 with 1 Axes>"
            ],
            "image/png": "[encoded data removed]"
          },
          "metadata": {
            "needs_background": "light"
          }
        }
      ]
    }
  ]
}