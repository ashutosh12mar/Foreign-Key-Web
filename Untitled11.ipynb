{
  "nbformat": 4,
  "nbformat_minor": 0,
  "metadata": {
    "colab": {
      "provenance": [],
      "authorship_tag": "ABX9TyMs6uJdompLg0LfxkAKmm7z",
      "include_colab_link": true
    },
    "kernelspec": {
      "name": "python3",
      "display_name": "Python 3"
    },
    "language_info": {
      "name": "python"
    }
  },
  "cells": [
    {
      "cell_type": "markdown",
      "metadata": {
        "id": "view-in-github",
        "colab_type": "text"
      },
      "source": [
        "<a href=\"https://colab.research.google.com/github/ashutosh12mar/Foreign-Key-Web/blob/main/Untitled11.ipynb\" target=\"_parent\"><img src=\"https://colab.research.google.com/assets/colab-badge.svg\" alt=\"Open In Colab\"/></a>"
      ]
    },
    {
      "cell_type": "code",
      "execution_count": null,
      "metadata": {
        "id": "fERj5tPGjy5X"
      },
      "outputs": [],
      "source": []
    },
    {
      "cell_type": "code",
      "source": [],
      "metadata": {
        "id": "MC2Z-Z54kZDR"
      },
      "execution_count": null,
      "outputs": []
    },
    {
      "cell_type": "markdown",
      "source": [
        "**Polyfit Demo**"
      ],
      "metadata": {
        "id": "WU64xvrKkQ16"
      }
    },
    {
      "cell_type": "code",
      "source": [
        "import numpy\n",
        "import matplotlib.pyplot as plt\n",
        "from sklearn.metrics import r2_score"
      ],
      "metadata": {
        "id": "1wfyTAr2kcOl"
      },
      "execution_count": 1,
      "outputs": []
    },
    {
      "cell_type": "code",
      "source": [
        "x=[1,2,3,4]\n",
        "y=[1,4,10,16]\n",
        "#print(numpy.linspace(1,101,11))\n",
        "model=numpy.poly1d(numpy.polyfit(x,y,4))\n",
        "print(\"model=\",model(x))\n",
        "print(numpy.polyfit(x, y, 1))\n",
        "plotx =[-1,0,1,2,3,4,5,6,7]# numpy.linspace(1, 22, 100)\n",
        "correlation=r2_score(y,model(x))\n",
        "print(\"Correlation\",correlation *100)\n",
        "plt.scatter(x,y,color=\"yellow\")\n",
        "plt.plot(x,y,\"b-\",label=\"Original\")\n",
        "plt.plot(plotx, model(plotx),\"r-\",label=\"Predicted\")\n",
        "plt.ylabel('Y')\n",
        "plt.xlabel('X')\n",
        "plt.legend()\n",
        "plt.show()\n",
        "xvalue=4\n",
        "predict=model(xvalue)\n",
        "print(\"Predicted\",predict)\n"
      ],
      "metadata": {
        "colab": {
          "base_uri": "https://localhost:8080/",
          "height": 383
        },
        "id": "MUM8V1MEl4Pm",
        "outputId": "d98c003d-05eb-45dd-f8b4-f5cf717558c6"
      },
      "execution_count": 3,
      "outputs": [
        {
          "output_type": "stream",
          "name": "stderr",
          "text": [
            "/usr/local/lib/python3.7/dist-packages/IPython/core/interactiveshell.py:3326: RankWarning: Polyfit may be poorly conditioned\n",
            "  exec(code_obj, self.user_global_ns, self.user_ns)\n"
          ]
        },
        {
          "output_type": "stream",
          "name": "stdout",
          "text": [
            "model= [ 1.  4. 10. 16.]\n",
            "[ 5.1 -5. ]\n",
            "Correlation 100.0\n"
          ]
        },
        {
          "output_type": "display_data",
          "data": {
            "text/plain": [
              "<Figure size 432x288 with 1 Axes>"
            ],
            "image/png": "[encoded data removed]"
          },
          "metadata": {
            "needs_background": "light"
          }
        },
        {
          "output_type": "stream",
          "name": "stdout",
          "text": [
            "Predicted 16.000000000000014\n"
          ]
        }
      ]
    }
  ]
}