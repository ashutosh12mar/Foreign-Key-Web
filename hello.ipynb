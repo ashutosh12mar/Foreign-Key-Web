{
  "nbformat": 4,
  "nbformat_minor": 0,
  "metadata": {
    "colab": {
      "provenance": [],
      "collapsed_sections": [],
      "authorship_tag": "ABX9TyM7exolCiOV0U9aY7otIJQ1",
      "include_colab_link": true
    },
    "kernelspec": {
      "name": "python3",
      "display_name": "Python 3"
    },
    "language_info": {
      "name": "python"
    }
  },
  "cells": [
    {
      "cell_type": "markdown",
      "metadata": {
        "id": "view-in-github",
        "colab_type": "text"
      },
      "source": [
        "<a href=\"https://colab.research.google.com/github/ashutosh12mar/Foreign-Key-Web/blob/main/hello.ipynb\" target=\"_parent\"><img src=\"https://colab.research.google.com/assets/colab-badge.svg\" alt=\"Open In Colab\"/></a>"
      ]
    },
    {
      "cell_type": "code",
      "source": [
        "int main(void)\n",
        " {\n",
        "   int i = 10;\n",
        "   do {\n",
        "      printf(\"the value of i: %i\\n\", i);\n",
        "      i++\n",
        "      }\n",
        "  while( i < 20 );\n",
        " "
      ],
      "metadata": {
        "id": "4YqO6B1wbYGh"
      },
      "execution_count": null,
      "outputs": []
    },
    {
      "cell_type": "code",
      "source": [
        "fruits = [\"apple\", \"banana\", \"cherry\"]\n",
        "for x in fruits:\n",
        "  print(x)"
      ],
      "metadata": {
        "colab": {
          "base_uri": "https://localhost:8080/"
        },
        "id": "bJ8INZ62cEsa",
        "outputId": "f0d50355-08c8-48ca-850f-820ac9343ad6"
      },
      "execution_count": 25,
      "outputs": [
        {
          "output_type": "stream",
          "name": "stdout",
          "text": [
            "apple\n",
            "banana\n",
            "cherry\n"
          ]
        }
      ]
    },
    {
      "cell_type": "code",
      "source": [
        "for x in range(2, 30, 3):\n",
        "  print(x)"
      ],
      "metadata": {
        "colab": {
          "base_uri": "https://localhost:8080/"
        },
        "id": "7C-GowwjdCLv",
        "outputId": "dcd3c724-a63a-493c-ab2f-b4d9ba42a690"
      },
      "execution_count": 26,
      "outputs": [
        {
          "output_type": "stream",
          "name": "stdout",
          "text": [
            "2\n",
            "5\n",
            "8\n",
            "11\n",
            "14\n",
            "17\n",
            "20\n",
            "23\n",
            "26\n",
            "29\n"
          ]
        }
      ]
    },
    {
      "cell_type": "code",
      "source": [
        "a = 330\n",
        "b = 200\n",
        "if a > b:\n",
        "  print(\"a is greater than b\")\n"
      ],
      "metadata": {
        "colab": {
          "base_uri": "https://localhost:8080/"
        },
        "id": "l6ca4c4ad9Ev",
        "outputId": "87208555-a1f6-4745-a8ef-73f401dc9024"
      },
      "execution_count": 28,
      "outputs": [
        {
          "output_type": "stream",
          "name": "stdout",
          "text": [
            "a is greater than b\n"
          ]
        }
      ]
    },
    {
      "cell_type": "code",
      "source": [
        "i=10\n",
        "num=1\n",
        "print(\"List of Number from 10 to {0}:\".format(num))\n",
        "while(i>= num):\n",
        "  print(i,end=' ')\n",
        "  i=i-1"
      ],
      "metadata": {
        "colab": {
          "base_uri": "https://localhost:8080/"
        },
        "id": "D8LEQPatxPH2",
        "outputId": "2847c1d5-01b8-4bec-c184-e76368c3a668"
      },
      "execution_count": 65,
      "outputs": [
        {
          "output_type": "stream",
          "name": "stdout",
          "text": [
            "List of Number from 10 to 1:\n",
            "10 9 8 7 6 5 4 3 2 1 "
          ]
        }
      ]
    },
    {
      "cell_type": "code",
      "source": [
        "a = 33\n",
        "b = 33\n",
        "if b > a:\n",
        "  print(\"b is greater than a\")\n",
        "elif a == b:\n",
        "  print(\"a and b are equal\")"
      ],
      "metadata": {
        "colab": {
          "base_uri": "https://localhost:8080/"
        },
        "id": "l2j9PZTEeT32",
        "outputId": "821bd9e6-2c4a-4b89-f619-e9ced58b9d56"
      },
      "execution_count": 29,
      "outputs": [
        {
          "output_type": "stream",
          "name": "stdout",
          "text": [
            "a and b are equal\n"
          ]
        }
      ]
    },
    {
      "cell_type": "code",
      "source": [
        "a = 200\n",
        "b = 33\n",
        "if b > a:\n",
        "  print(\"b is greater than a\")\n",
        "elif a == b:\n",
        "  print(\"a and b are equal\")\n",
        "else:\n",
        "  print(\"a is greater than b\")"
      ],
      "metadata": {
        "colab": {
          "base_uri": "https://localhost:8080/"
        },
        "id": "M4X8HohmfDXa",
        "outputId": "a23ed7f6-bffa-4f5e-a254-435adb531d4e"
      },
      "execution_count": 30,
      "outputs": [
        {
          "output_type": "stream",
          "name": "stdout",
          "text": [
            "a is greater than b\n"
          ]
        }
      ]
    },
    {
      "cell_type": "code",
      "source": [
        "a = 200\n",
        "b = 330\n",
        "if b > a:\n",
        "  print(\"b is greater than a\")\n",
        "else:\n",
        "  print(\"b is not greater than a\")"
      ],
      "metadata": {
        "colab": {
          "base_uri": "https://localhost:8080/"
        },
        "id": "QJi5tWqmgbd2",
        "outputId": "97b64b46-f67f-4ccb-f4e0-8547a02a9a25"
      },
      "execution_count": 32,
      "outputs": [
        {
          "output_type": "stream",
          "name": "stdout",
          "text": [
            "b is greater than a\n"
          ]
        }
      ]
    },
    {
      "cell_type": "code",
      "source": [
        "a = 2\n",
        "b = 330\n",
        "print(\"A\") if a > b else print(\"B\")"
      ],
      "metadata": {
        "colab": {
          "base_uri": "https://localhost:8080/"
        },
        "id": "XkbSTJJyhgo9",
        "outputId": "29a326a8-f6f3-4b45-80c5-111206c52071"
      },
      "execution_count": 33,
      "outputs": [
        {
          "output_type": "stream",
          "name": "stdout",
          "text": [
            "B\n"
          ]
        }
      ]
    },
    {
      "cell_type": "code",
      "source": [
        "def is_what_percent_of(num_a, num_b):\n",
        "    try:\n",
        "        return (num_a / num_b) * 100\n",
        "    except ZeroDivisionError:\n",
        "        return 0\n",
        "\n",
        "\n",
        "print(is_what_percent_of(25, 0)) "
      ],
      "metadata": {
        "colab": {
          "base_uri": "https://localhost:8080/"
        },
        "id": "0l99VnMBiCiV",
        "outputId": "e0b2bcdc-c0c3-4f93-cb05-07be2a6b31fa"
      },
      "execution_count": 34,
      "outputs": [
        {
          "output_type": "stream",
          "name": "stdout",
          "text": [
            "0\n"
          ]
        }
      ]
    },
    {
      "cell_type": "code",
      "source": [
        "def get_percentage_increase(num_a, num_b):\n",
        "    return ((num_a - num_b) / num_b) * 100\n",
        "\n",
        "\n",
        "print(get_percentage_increase(60, 40))\n",
        "print(get_percentage_increase(80,21))"
      ],
      "metadata": {
        "colab": {
          "base_uri": "https://localhost:8080/"
        },
        "id": "BJgzzFOlic0t",
        "outputId": "ce96f656-3f65-4046-844e-f3b3b879924a"
      },
      "execution_count": 37,
      "outputs": [
        {
          "output_type": "stream",
          "name": "stdout",
          "text": [
            "50.0\n",
            "280.9523809523809\n"
          ]
        }
      ]
    },
    {
      "cell_type": "code",
      "source": [
        "import array as arr\n",
        "a = arr.array('d', [1.1, 3.5, 4.5])\n",
        "print(a)"
      ],
      "metadata": {
        "colab": {
          "base_uri": "https://localhost:8080/"
        },
        "id": "u-dsdvFflM2U",
        "outputId": "5d004fad-aebb-418f-d6fc-5de3bdadad3f"
      },
      "execution_count": 43,
      "outputs": [
        {
          "output_type": "stream",
          "name": "stdout",
          "text": [
            "array('d', [1.1, 3.5, 4.5])\n"
          ]
        }
      ]
    },
    {
      "cell_type": "code",
      "source": [
        "       import array as arr\n",
        "       a =arr.array('i',[2,5,8,9])\n",
        "       print(\"first element:\",a[0])\n",
        "       print(\"second element:\",a[1])\n",
        "       print(\"last element:\",a[-1])"
      ],
      "metadata": {
        "colab": {
          "base_uri": "https://localhost:8080/"
        },
        "id": "cQnKW83pl001",
        "outputId": "593c5c32-8985-4bec-fbae-4f75dbf29b45"
      },
      "execution_count": 60,
      "outputs": [
        {
          "output_type": "stream",
          "name": "stdout",
          "text": [
            "first element: 2\n",
            "second element: 5\n",
            "last element: 9\n"
          ]
        }
      ]
    },
    {
      "cell_type": "code",
      "source": [
        "print((-5)**0.5)"
      ],
      "metadata": {
        "colab": {
          "base_uri": "https://localhost:8080/"
        },
        "id": "UPLSn76Tpoe-",
        "outputId": "673bcb30-405f-42d7-f0ae-a083c5f23d2b"
      },
      "execution_count": 62,
      "outputs": [
        {
          "output_type": "stream",
          "name": "stdout",
          "text": [
            "(1.3691967456605067e-16+2.23606797749979j)\n"
          ]
        }
      ]
    },
    {
      "cell_type": "code",
      "source": [
        "a=[1,2,3,4]\n",
        "print(a)"
      ],
      "metadata": {
        "colab": {
          "base_uri": "https://localhost:8080/"
        },
        "id": "cyHuNkaYp9Lb",
        "outputId": "e07effdf-f27c-4f30-9993-4ffd50e14de1"
      },
      "execution_count": 63,
      "outputs": [
        {
          "output_type": "stream",
          "name": "stdout",
          "text": [
            "[1, 2, 3, 4]\n"
          ]
        }
      ]
    },
    {
      "cell_type": "code",
      "source": [],
      "metadata": {
        "id": "1mDwayNTp7pG"
      },
      "execution_count": null,
      "outputs": []
    }
  ]
}