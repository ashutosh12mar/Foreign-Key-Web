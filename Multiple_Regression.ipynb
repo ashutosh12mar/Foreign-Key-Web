{
  "nbformat": 4,
  "nbformat_minor": 0,
  "metadata": {
    "colab": {
      "provenance": [],
      "collapsed_sections": [],
      "include_colab_link": true
    },
    "kernelspec": {
      "name": "python3",
      "display_name": "Python 3"
    },
    "language_info": {
      "name": "python"
    }
  },
  "cells": [
    {
      "cell_type": "markdown",
      "metadata": {
        "id": "view-in-github",
        "colab_type": "text"
      },
      "source": [
        "<a href=\"https://colab.research.google.com/github/ashutosh12mar/Foreign-Key-Web/blob/main/Multiple_Regression.ipynb\" target=\"_parent\"><img src=\"https://colab.research.google.com/assets/colab-badge.svg\" alt=\"Open In Colab\"/></a>"
      ]
    },
    {
      "cell_type": "code",
      "source": [
        "import numpy as np\n",
        "from sklearn.linear_model import LinearRegression"
      ],
      "metadata": {
        "id": "SsQdp2AT3aHF"
      },
      "execution_count": 1,
      "outputs": []
    },
    {
      "cell_type": "code",
      "execution_count": 4,
      "metadata": {
        "colab": {
          "base_uri": "https://localhost:8080/"
        },
        "id": "BtYmEpIDyK7p",
        "outputId": "69ffa3eb-b74f-4b49-fcb7-d1e8f38c5958"
      },
      "outputs": [
        {
          "output_type": "stream",
          "name": "stdout",
          "text": [
            "[6, 8, 11, 13]\n",
            "Correlation coeffcient 1.0\n",
            "Coeffcients  [3. 2.] , intercept  1.0000000000000018\n",
            "[[3 5]] [20.]\n"
          ]
        }
      ],
      "source": [
        "X = np.array([[1, 1], [1, 2], [2, 2], [2, 3]])\n",
        "#y=[2,3,4,5]# x1 + x2\n",
        "#y=[3,4,5,6]# x1 + x2 + 1\n",
        "y=[6,8,11,13]# 3*x1 + 2*x2 + 1\n",
        "print(y)\n",
        "reg = LinearRegression().fit(X, y)\n",
        "print(\"Correlation coeffcient\",reg.score(X, y))\n",
        "print(\"Coeffcients \",reg.coef_,\", intercept \",reg.intercept_)\n",
        "xvalue=np.array([[3, 5]])\n",
        "result=reg.predict(xvalue)\n",
        "print(xvalue,result)"
      ]
    }
  ]
}