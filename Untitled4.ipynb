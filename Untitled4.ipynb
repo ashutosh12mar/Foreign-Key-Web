{
  "nbformat": 4,
  "nbformat_minor": 0,
  "metadata": {
    "colab": {
      "provenance": [],
      "authorship_tag": "ABX9TyON47zogzzvBcG1r/zsDDIV",
      "include_colab_link": true
    },
    "kernelspec": {
      "name": "python3",
      "display_name": "Python 3"
    },
    "language_info": {
      "name": "python"
    }
  },
  "cells": [
    {
      "cell_type": "markdown",
      "metadata": {
        "id": "view-in-github",
        "colab_type": "text"
      },
      "source": [
        "<a href=\"https://colab.research.google.com/github/ashutosh12mar/Foreign-Key-Web/blob/main/Untitled4.ipynb\" target=\"_parent\"><img src=\"https://colab.research.google.com/assets/colab-badge.svg\" alt=\"Open In Colab\"/></a>"
      ]
    },
    {
      "cell_type": "code",
      "execution_count": 1,
      "metadata": {
        "id": "gSV6MPO8xgox"
      },
      "outputs": [],
      "source": [
        "import numpy as np"
      ]
    },
    {
      "cell_type": "markdown",
      "source": [
        "Create the array and print the array and its shape"
      ],
      "metadata": {
        "id": "HTGydpC0x6YY"
      }
    },
    {
      "cell_type": "code",
      "source": [
        "a=np.array([1,2,3,4,5,6,7,8,9,10,11,12])\n",
        "print(a)\n",
        "print(a.shape)"
      ],
      "metadata": {
        "colab": {
          "base_uri": "https://localhost:8080/"
        },
        "id": "rUxxN8bHyAXF",
        "outputId": "73b93524-1769-41cf-e24e-042c260f88ff"
      },
      "execution_count": 2,
      "outputs": [
        {
          "output_type": "stream",
          "name": "stdout",
          "text": [
            "[ 1  2  3  4  5  6  7  8  9 10 11 12]\n",
            "(12,)\n"
          ]
        }
      ]
    },
    {
      "cell_type": "markdown",
      "source": [
        "Reshape it"
      ],
      "metadata": {
        "id": "6TjMtu6Wy_in"
      }
    },
    {
      "cell_type": "code",
      "source": [
        "a=a.reshape(4,3 )# 4 X 3\n",
        "print(a)\n",
        "print(a.shape)\n",
        "a=a.reshape(2,3,2 )# 2 X 3 X 2\n",
        "print(a)\n",
        "print(a.shape)\n",
        "a=a.reshape(1,12 )# 1 X 12\n",
        "print(a)\n",
        "print(a.shape)"
      ],
      "metadata": {
        "colab": {
          "base_uri": "https://localhost:8080/"
        },
        "id": "URT_iEcxzBlg",
        "outputId": "f04bddcc-c547-4314-9fc7-a2c056eadb2c"
      },
      "execution_count": 3,
      "outputs": [
        {
          "output_type": "stream",
          "name": "stdout",
          "text": [
            "[[ 1  2  3]\n",
            " [ 4  5  6]\n",
            " [ 7  8  9]\n",
            " [10 11 12]]\n",
            "(4, 3)\n",
            "[[[ 1  2]\n",
            "  [ 3  4]\n",
            "  [ 5  6]]\n",
            "\n",
            " [[ 7  8]\n",
            "  [ 9 10]\n",
            "  [11 12]]]\n",
            "(2, 3, 2)\n",
            "[[ 1  2  3  4  5  6  7  8  9 10 11 12]]\n",
            "(1, 12)\n"
          ]
        }
      ]
    },
    {
      "cell_type": "markdown",
      "source": [
        "Reshape it using negatives index"
      ],
      "metadata": {
        "id": "vnK6YUzi0Bwt"
      }
    },
    {
      "cell_type": "code",
      "source": [
        "a=a.reshape(-1,3 )# 4 X 3. This will give the remaining values to the first dimension. Any -ve number is allowed\n",
        "print(a)\n",
        "print(a.shape)\n",
        "a=a.reshape(2,3,-2 )# 2 X 3 X 2\n",
        "print(a)\n",
        "print(a.shape)\n",
        "a=a.reshape(1,-1 )# 12 X 1\n",
        "print(a)\n",
        "print(a.shape)\n",
        "a=a.reshape(-1,12 )# 1 X 12\n",
        "print(a)\n",
        "print(a.shape)"
      ],
      "metadata": {
        "colab": {
          "base_uri": "https://localhost:8080/"
        },
        "id": "HQ_-6gY51NWw",
        "outputId": "ad823231-188f-41f3-926c-85d24c9c0fb7"
      },
      "execution_count": 4,
      "outputs": [
        {
          "output_type": "stream",
          "name": "stdout",
          "text": [
            "[[ 1  2  3]\n",
            " [ 4  5  6]\n",
            " [ 7  8  9]\n",
            " [10 11 12]]\n",
            "(4, 3)\n",
            "[[[ 1  2]\n",
            "  [ 3  4]\n",
            "  [ 5  6]]\n",
            "\n",
            " [[ 7  8]\n",
            "  [ 9 10]\n",
            "  [11 12]]]\n",
            "(2, 3, 2)\n",
            "[[ 1  2  3  4  5  6  7  8  9 10 11 12]]\n",
            "(1, 12)\n",
            "[[ 1  2  3  4  5  6  7  8  9 10 11 12]]\n",
            "(1, 12)\n"
          ]
        }
      ]
    }
  ]
}