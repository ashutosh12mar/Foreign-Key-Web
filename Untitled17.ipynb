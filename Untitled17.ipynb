{
  "nbformat": 4,
  "nbformat_minor": 0,
  "metadata": {
    "colab": {
      "provenance": [],
      "authorship_tag": "ABX9TyNHiCN23n3aTCMTQGZQbihG",
      "include_colab_link": true
    },
    "kernelspec": {
      "name": "python3",
      "display_name": "Python 3"
    },
    "language_info": {
      "name": "python"
    }
  },
  "cells": [
    {
      "cell_type": "markdown",
      "metadata": {
        "id": "view-in-github",
        "colab_type": "text"
      },
      "source": [
        "<a href=\"https://colab.research.google.com/github/ashutosh12mar/Foreign-Key-Web/blob/main/Untitled17.ipynb\" target=\"_parent\"><img src=\"https://colab.research.google.com/assets/colab-badge.svg\" alt=\"Open In Colab\"/></a>"
      ]
    },
    {
      "cell_type": "code",
      "execution_count": null,
      "metadata": {
        "id": "TzCTIk_BhZen"
      },
      "outputs": [],
      "source": []
    },
    {
      "cell_type": "markdown",
      "source": [
        "**Pandas---Dataframes**"
      ],
      "metadata": {
        "id": "DB9zZe7RhdfL"
      }
    },
    {
      "cell_type": "code",
      "source": [],
      "metadata": {
        "id": "asFBCa8chnSC"
      },
      "execution_count": null,
      "outputs": []
    },
    {
      "cell_type": "markdown",
      "source": [
        "**Dataframes are created by**"
      ],
      "metadata": {
        "id": "SFvxpYgyhuAx"
      }
    },
    {
      "cell_type": "markdown",
      "source": [
        "A dictionary of 1D ndarrays, lists, dicts, or Series."
      ],
      "metadata": {
        "id": "MFhf8w4ohwC8"
      }
    },
    {
      "cell_type": "markdown",
      "source": [],
      "metadata": {
        "id": "eR0tU74ih2ef"
      }
    },
    {
      "cell_type": "code",
      "source": [
        "import numpy as np\n",
        "import pandas as pd\n",
        "runs=pd.Series([10,100,50,420])\n",
        "wickets=pd.Series([1,2,3,420])\n",
        "data= {\"Runs\":runs,\"Wickets\":wickets}\n",
        "df=pd.DataFrame(data)\n",
        "print(df)"
      ],
      "metadata": {
        "colab": {
          "base_uri": "https://localhost:8080/"
        },
        "id": "HuPpMn3GiYA8",
        "outputId": "6db10da8-ac4e-46b6-8acc-b42f4e9f20a4"
      },
      "execution_count": 1,
      "outputs": [
        {
          "output_type": "stream",
          "name": "stdout",
          "text": [
            "   Runs  Wickets\n",
            "0    10        1\n",
            "1   100        2\n",
            "2    50        3\n",
            "3   420      420\n"
          ]
        }
      ]
    },
    {
      "cell_type": "code",
      "source": [
        "import numpy as np\n",
        "import pandas as pd \n",
        "runs=pd.Series([12,13,34,56,56])\n",
        "out=pd.Series([6,5,4,3,8])\n",
        "data={\"Runs\":runs,\"Out\":out}\n",
        "df=pd.DataFrame(data)\n",
        "print(df)"
      ],
      "metadata": {
        "colab": {
          "base_uri": "https://localhost:8080/"
        },
        "id": "lKkR_mEiifJx",
        "outputId": "1a66a0e0-8404-4044-fb0d-511676469161"
      },
      "execution_count": 2,
      "outputs": [
        {
          "output_type": "stream",
          "name": "stdout",
          "text": [
            "   Runs  Out\n",
            "0    12    6\n",
            "1    13    5\n",
            "2    34    4\n",
            "3    56    3\n",
            "4    56    8\n"
          ]
        }
      ]
    },
    {
      "cell_type": "code",
      "source": [
        "import numpy as np\n",
        "import pandas as pd\n",
        "age=pd.Series([10,12,16,18,21,25])\n",
        "parents=pd.Series([45,50,56,43,52,70])\n",
        "data={\"age\":age,\"parents\":parents}\n",
        "df=pd.DataFrame(data)\n",
        "print(df)"
      ],
      "metadata": {
        "colab": {
          "base_uri": "https://localhost:8080/"
        },
        "id": "ikc4is3gk5NM",
        "outputId": "523830a2-f9e7-45c7-baa1-d87495414a57"
      },
      "execution_count": 5,
      "outputs": [
        {
          "output_type": "stream",
          "name": "stdout",
          "text": [
            "   age  parents\n",
            "0   10       45\n",
            "1   12       50\n",
            "2   16       56\n",
            "3   18       43\n",
            "4   21       52\n",
            "5   25       70\n"
          ]
        }
      ]
    },
    {
      "cell_type": "code",
      "source": [],
      "metadata": {
        "id": "A0wbHbkGmD9L"
      },
      "execution_count": null,
      "outputs": []
    },
    {
      "cell_type": "code",
      "source": [
        "import numpy as np\n",
        "import pandas as pd\n",
        "runs=[10,100,50,420]\n",
        "wickets=[1,2,3,420]\n",
        "names=[\"Sachin\",\"Rahul\",\"Dhoni\",\"Pappu\"]\n",
        "runseries=pd.Series(runs,index=names)\n",
        "wicketseries=pd.Series(wickets,index=names)\n",
        "data= {\"Runs\" : runseries, \"Wickets\" : wicketseries}\n",
        "df=pd.DataFrame(data)\n",
        "print(df)"
      ],
      "metadata": {
        "colab": {
          "base_uri": "https://localhost:8080/"
        },
        "id": "OR0kFcSsmENB",
        "outputId": "42707dc5-01a6-4b74-e05c-ed564070505c"
      },
      "execution_count": 6,
      "outputs": [
        {
          "output_type": "stream",
          "name": "stdout",
          "text": [
            "        Runs  Wickets\n",
            "Sachin    10        1\n",
            "Rahul    100        2\n",
            "Dhoni     50        3\n",
            "Pappu    420      420\n"
          ]
        }
      ]
    },
    {
      "cell_type": "code",
      "source": [
        "import numpy as np\n",
        "import pandas as pd\n",
        "days=[7,6,5,4,12,11]\n",
        "time=[1,3,2,4,5,2]\n",
        "names=[\"Harsh\",\"Sachin\",\"Rohit\",\"Chandan\",\"Aman\",\"Mohit\"]\n",
        "dayseries=pd.Series(days,index=names)\n",
        "timeseries=pd.Series(time,index=names)\n",
        "data={\"Days\":dayseries,\"Time\":timeseries}\n",
        "df=pd.DataFrame(data)\n",
        "print(df)"
      ],
      "metadata": {
        "colab": {
          "base_uri": "https://localhost:8080/"
        },
        "id": "uAgoMcjxmxwS",
        "outputId": "bef7e61c-8ce6-452b-dd5a-883462bc0d66"
      },
      "execution_count": 10,
      "outputs": [
        {
          "output_type": "stream",
          "name": "stdout",
          "text": [
            "         Days  Time\n",
            "Harsh       7     1\n",
            "Sachin      6     3\n",
            "Rohit       5     2\n",
            "Chandan     4     4\n",
            "Aman       12     5\n",
            "Mohit      11     2\n"
          ]
        }
      ]
    },
    {
      "cell_type": "code",
      "source": [
        "import numpy as np\n",
        "import pandas as pd\n",
        "runs=[10,100,50,420]\n",
        "wickets=[1,2,3,420]\n",
        "names=[\"Sachin\",\"Rahul\",\"Dhoni\",\"Pappu\"]\n",
        "data= {\"Runs\" : runs, \"Wickets\" : wickets}\n",
        "df=pd.DataFrame(data,index=names)\n",
        "print(df)"
      ],
      "metadata": {
        "colab": {
          "base_uri": "https://localhost:8080/"
        },
        "id": "chI_r9rSq9ZN",
        "outputId": "40251592-5e37-4b20-ff60-1a1562696168"
      },
      "execution_count": 11,
      "outputs": [
        {
          "output_type": "stream",
          "name": "stdout",
          "text": [
            "        Runs  Wickets\n",
            "Sachin    10        1\n",
            "Rahul    100        2\n",
            "Dhoni     50        3\n",
            "Pappu    420      420\n"
          ]
        }
      ]
    },
    {
      "cell_type": "markdown",
      "source": [
        "rearrange columns"
      ],
      "metadata": {
        "id": "GeddPep0rLDm"
      }
    },
    {
      "cell_type": "code",
      "source": [
        "import numpy as np\n",
        "import pandas as pd\n",
        "runs=[10,100,50,420]\n",
        "wickets=[1,2,3,420]\n",
        "names=[\"Sachin\",\"Rahul\",\"Dhoni\",\"Pappu\"]\n",
        "data= {\"runs\" : runs, \"wickets\" : wickets}\n",
        "print(data)\n",
        "df=pd.DataFrame(data,index=names , columns=['wickets','runs'])\n",
        "print(df)"
      ],
      "metadata": {
        "colab": {
          "base_uri": "https://localhost:8080/"
        },
        "id": "BxYReXzLrZjZ",
        "outputId": "d0fabbe2-1ffb-4069-fac1-bd558ecfc6d5"
      },
      "execution_count": 12,
      "outputs": [
        {
          "output_type": "stream",
          "name": "stdout",
          "text": [
            "{'runs': [10, 100, 50, 420], 'wickets': [1, 2, 3, 420]}\n",
            "        wickets  runs\n",
            "Sachin        1    10\n",
            "Rahul         2   100\n",
            "Dhoni         3    50\n",
            "Pappu       420   420\n"
          ]
        }
      ]
    },
    {
      "cell_type": "code",
      "source": [
        "import numpy as np\n",
        "import pandas as pd\n",
        "labours=[1,3,4,5,7,8,9]\n",
        "area=[10,23,22,21,45,32,11]\n",
        "names=[\"Hash\",\"Rohit\",\"Mohit\",\"Sachin\",\"Aman\",\"Chandan\",\"Ashutosh\"]\n",
        "data={\"labours\":labours,\"area\":area}\n",
        "print(data)\n",
        "df=pd.DataFrame(data,index=names , columns=['area','labours'])\n",
        "print(df)"
      ],
      "metadata": {
        "colab": {
          "base_uri": "https://localhost:8080/"
        },
        "id": "MQqL3pZ3lFkL",
        "outputId": "12827587-dbe0-4076-8836-bb237555b18a"
      },
      "execution_count": 16,
      "outputs": [
        {
          "output_type": "stream",
          "name": "stdout",
          "text": [
            "{'labours': [1, 3, 4, 5, 7, 8, 9], 'area': [10, 23, 22, 21, 45, 32, 11]}\n",
            "          area  labours\n",
            "Hash        10        1\n",
            "Rohit       23        3\n",
            "Mohit       22        4\n",
            "Sachin      21        5\n",
            "Aman        45        7\n",
            "Chandan     32        8\n",
            "Ashutosh    11        9\n"
          ]
        }
      ]
    },
    {
      "cell_type": "markdown",
      "source": [
        "**Accessing Rows and Columns**"
      ],
      "metadata": {
        "id": "YKNLsMrdwxuJ"
      }
    },
    {
      "cell_type": "code",
      "source": [
        "import numpy as np\n",
        "import pandas as pd\n",
        "runs=[10,100,50,420]\n",
        "wickets=[1,2,3,420]\n",
        "names=[\"Sachin\",\"Rahul\",\"Dhoni\",\"Pappu\"]\n",
        "data= {\"runs\" : runs, \"wickets\" : wickets}\n",
        "print(data)\n",
        "df=pd.DataFrame(data,index=names , columns=['wickets','runs'])\n",
        "print(df)\n",
        "print(\"Index\",df.index)\n",
        "print(\"Columns\",df.columns)\n",
        "print(\"Col 0\",df.columns[0])\n",
        "print(\"Wickets\",df[\"wickets\"])\n",
        "x=df.loc[\"Sachin\"]\n",
        "print(\"Sachin\",x)\n",
        "x=df.loc[\"Sachin\",:]\n",
        "print(\"Sachin\",x)"
      ],
      "metadata": {
        "colab": {
          "base_uri": "https://localhost:8080/"
        },
        "id": "5odXW_Vvw-Ux",
        "outputId": "11b9677c-39de-49df-d3d1-d93a2115196f"
      },
      "execution_count": 17,
      "outputs": [
        {
          "output_type": "stream",
          "name": "stdout",
          "text": [
            "{'runs': [10, 100, 50, 420], 'wickets': [1, 2, 3, 420]}\n",
            "        wickets  runs\n",
            "Sachin        1    10\n",
            "Rahul         2   100\n",
            "Dhoni         3    50\n",
            "Pappu       420   420\n",
            "Index Index(['Sachin', 'Rahul', 'Dhoni', 'Pappu'], dtype='object')\n",
            "Columns Index(['wickets', 'runs'], dtype='object')\n",
            "Col 0 wickets\n",
            "Wickets Sachin      1\n",
            "Rahul       2\n",
            "Dhoni       3\n",
            "Pappu     420\n",
            "Name: wickets, dtype: int64\n",
            "Sachin wickets     1\n",
            "runs       10\n",
            "Name: Sachin, dtype: int64\n",
            "Sachin wickets     1\n",
            "runs       10\n",
            "Name: Sachin, dtype: int64\n"
          ]
        }
      ]
    },
    {
      "cell_type": "code",
      "source": [
        "import numpy as np\n",
        "import pandas as pd\n",
        "passed=[1,3,4,2,4,5,8,7]\n",
        "fails=[1,2,3,4,5,6,7,8]\n",
        "names=[\"a\",\"b\",\"c\",\"d\",\"e\",\"f\",\"g\",\"h\"]\n",
        "data={\"passed\":passed,\"fails\":fails}\n",
        "print(data)\n",
        "df=pd.DataFrame(data,index=names , columns=['fails','passed'])\n",
        "print(df)\n",
        "print(\"Index\",df.index)\n",
        "print(\"Columns\",df.columns)\n",
        "print(\"Col 0\",df.columns[0])\n",
        "print(\"fails\",df[\"fails\"])\n",
        "x=df.loc[\"d\"]\n",
        "print(\"d\",x)\n",
        "x=df.loc[\"d\",:]\n",
        "print(\"d\",x)\n",
        "\n",
        "\n",
        "\n",
        "\n"
      ],
      "metadata": {
        "colab": {
          "base_uri": "https://localhost:8080/"
        },
        "id": "3K4ITV0KxTYO",
        "outputId": "7e054dfc-dd1b-404d-e004-bc14550faac9"
      },
      "execution_count": 21,
      "outputs": [
        {
          "output_type": "stream",
          "name": "stdout",
          "text": [
            "{'passed': [1, 3, 4, 2, 4, 5, 8, 7], 'fails': [1, 2, 3, 4, 5, 6, 7, 8]}\n",
            "   fails  passed\n",
            "a      1       1\n",
            "b      2       3\n",
            "c      3       4\n",
            "d      4       2\n",
            "e      5       4\n",
            "f      6       5\n",
            "g      7       8\n",
            "h      8       7\n",
            "Index Index(['a', 'b', 'c', 'd', 'e', 'f', 'g', 'h'], dtype='object')\n",
            "Columns Index(['fails', 'passed'], dtype='object')\n",
            "Col 0 fails\n",
            "fails a    1\n",
            "b    2\n",
            "c    3\n",
            "d    4\n",
            "e    5\n",
            "f    6\n",
            "g    7\n",
            "h    8\n",
            "Name: fails, dtype: int64\n",
            "d fails     4\n",
            "passed    2\n",
            "Name: d, dtype: int64\n",
            "d fails     4\n",
            "passed    2\n",
            "Name: d, dtype: int64\n"
          ]
        }
      ]
    },
    {
      "cell_type": "code",
      "source": [
        "import numpy as np\n",
        "import pandas as pd\n",
        "\n",
        "import matplotlib.pyplot as plt\n",
        "runs={\"Sachin\":100,\"Pappu\":420,\"Saubhagya\":1}\n",
        "wickets={\"Sachin\":1,\"Pappu\":420}\n",
        "data=[runs,wickets]\n",
        "index=[\"Runs\",\"Wickets\"]\n",
        "df=pd.DataFrame(data,index)\n",
        "print(df)\n",
        "df.to_csv(\"h:\\\\csv\\\\scores.csv\")\n",
        "df.to_excel(\"h:\\\\csv\\\\scores.xlsx\")"
      ],
      "metadata": {
        "colab": {
          "base_uri": "https://localhost:8080/"
        },
        "id": "8Lf3rysH5V2v",
        "outputId": "6ef6cb6d-b661-4d0b-89a0-acce5455d1c9"
      },
      "execution_count": 22,
      "outputs": [
        {
          "output_type": "stream",
          "name": "stdout",
          "text": [
            "         Sachin  Pappu  Saubhagya\n",
            "Runs        100    420        1.0\n",
            "Wickets       1    420        NaN\n"
          ]
        }
      ]
    },
    {
      "cell_type": "code",
      "source": [
        "import numpy as np\n",
        "import pandas as pd\n",
        "import matplotlib.pyplot as plt\n",
        "age={\"Mohit\":19,\"Parmod\":520,\"Harsh\":421}\n",
        "height={\"Mohit\":1,\"Parmod\":520}\n",
        "data=[age,height]\n",
        "index=[\"Age\",\"Height\"]\n",
        "df=pd.DataFrame(data,index)\n",
        "print(df)\n",
        "df.to_csv(\"h:\\\\csv\\\\scores.csv\")\n",
        "df.to_csv(\"h\\\\csv\\\\scores.csv\")\n",
        "\n",
        "\n"
      ],
      "metadata": {
        "colab": {
          "base_uri": "https://localhost:8080/"
        },
        "id": "Ai5iUzH6BPP7",
        "outputId": "73d7f744-5332-4c7f-e6b0-6d91d642c2f6"
      },
      "execution_count": 25,
      "outputs": [
        {
          "output_type": "stream",
          "name": "stdout",
          "text": [
            "        Mohit  Parmod  Harsh\n",
            "Age        19     520  421.0\n",
            "Height      1     520    NaN\n"
          ]
        }
      ]
    }
  ]
}