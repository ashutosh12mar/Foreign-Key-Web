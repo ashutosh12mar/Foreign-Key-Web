{
  "nbformat": 4,
  "nbformat_minor": 0,
  "metadata": {
    "colab": {
      "provenance": [],
      "authorship_tag": "ABX9TyP5otnIIuxzztZqDBqI0NtP",
      "include_colab_link": true
    },
    "kernelspec": {
      "name": "python3",
      "display_name": "Python 3"
    },
    "language_info": {
      "name": "python"
    }
  },
  "cells": [
    {
      "cell_type": "markdown",
      "metadata": {
        "id": "view-in-github",
        "colab_type": "text"
      },
      "source": [
        "<a href=\"https://colab.research.google.com/github/ashutosh12mar/Foreign-Key-Web/blob/main/Untitled6.ipynb\" target=\"_parent\"><img src=\"https://colab.research.google.com/assets/colab-badge.svg\" alt=\"Open In Colab\"/></a>"
      ]
    },
    {
      "cell_type": "code",
      "execution_count": 1,
      "metadata": {
        "id": "PqGHBSsHTIAl"
      },
      "outputs": [],
      "source": [
        "import numpy as np"
      ]
    },
    {
      "cell_type": "markdown",
      "source": [
        "\n",
        "Create the array and print the array and its shape"
      ],
      "metadata": {
        "id": "GRElTCjsTwS4"
      }
    },
    {
      "cell_type": "code",
      "source": [
        "a=np.array([1,2,3,4,5,6,7,8,9,10,11,12])\n",
        "print(a)\n",
        "print(a.shape)"
      ],
      "metadata": {
        "colab": {
          "base_uri": "https://localhost:8080/"
        },
        "id": "3RpdblK6TxJE",
        "outputId": "ad64324a-3a04-4fbb-ac0e-6ba05f88c18a"
      },
      "execution_count": 2,
      "outputs": [
        {
          "output_type": "stream",
          "name": "stdout",
          "text": [
            "[ 1  2  3  4  5  6  7  8  9 10 11 12]\n",
            "(12,)\n"
          ]
        }
      ]
    },
    {
      "cell_type": "markdown",
      "source": [
        "Reshape it"
      ],
      "metadata": {
        "id": "cWSSKhNjT4SK"
      }
    },
    {
      "cell_type": "code",
      "source": [
        "a=a.reshape(4,3 )# 4 X 3\n",
        "print(a)\n",
        "print(a.shape)\n",
        "a=a.reshape(2,3,2 )# 2 X 3 X 2\n",
        "print(a)\n",
        "print(a.shape)\n",
        "a=a.reshape(1,12 )# 1 X 12\n",
        "print(a)\n",
        "print(a.shape)"
      ],
      "metadata": {
        "colab": {
          "base_uri": "https://localhost:8080/"
        },
        "id": "vlC79QYXT8ie",
        "outputId": "dd19d2f4-ccb0-408b-d674-c92f17a0c4f8"
      },
      "execution_count": 4,
      "outputs": [
        {
          "output_type": "stream",
          "name": "stdout",
          "text": [
            "[[ 1  2  3]\n",
            " [ 4  5  6]\n",
            " [ 7  8  9]\n",
            " [10 11 12]]\n",
            "(4, 3)\n",
            "[[[ 1  2]\n",
            "  [ 3  4]\n",
            "  [ 5  6]]\n",
            "\n",
            " [[ 7  8]\n",
            "  [ 9 10]\n",
            "  [11 12]]]\n",
            "(2, 3, 2)\n",
            "[[ 1  2  3  4  5  6  7  8  9 10 11 12]]\n",
            "(1, 12)\n"
          ]
        }
      ]
    },
    {
      "cell_type": "markdown",
      "source": [
        "Reshape it using negative indexes"
      ],
      "metadata": {
        "id": "ETn6hNpHUK-x"
      }
    },
    {
      "cell_type": "code",
      "source": [
        "a=a.reshape(-1,3 )# 4 X 3. This will give the remaining values to the first dimension. Any -ve number is allowed\n",
        "print(a)\n",
        "print(a.shape)\n",
        "a=a.reshape(2,3,-2 )# 2 X 3 X 2\n",
        "print(a)\n",
        "print(a.shape)\n",
        "a=a.reshape(1,-1 )# 12 X 1\n",
        "print(a)\n",
        "print(a.shape)\n",
        "a=a.reshape(-1,12 )# 1 X 12\n",
        "print(a)\n",
        "print(a.shape)"
      ],
      "metadata": {
        "colab": {
          "base_uri": "https://localhost:8080/"
        },
        "id": "7hLGoCaqULzH",
        "outputId": "f94b08f5-ec43-4099-e32f-b5c5706c062f"
      },
      "execution_count": 5,
      "outputs": [
        {
          "output_type": "stream",
          "name": "stdout",
          "text": [
            "[[ 1  2  3]\n",
            " [ 4  5  6]\n",
            " [ 7  8  9]\n",
            " [10 11 12]]\n",
            "(4, 3)\n",
            "[[[ 1  2]\n",
            "  [ 3  4]\n",
            "  [ 5  6]]\n",
            "\n",
            " [[ 7  8]\n",
            "  [ 9 10]\n",
            "  [11 12]]]\n",
            "(2, 3, 2)\n",
            "[[ 1  2  3  4  5  6  7  8  9 10 11 12]]\n",
            "(1, 12)\n",
            "[[ 1  2  3  4  5  6  7  8  9 10 11 12]]\n",
            "(1, 12)\n"
          ]
        }
      ]
    }
  ]
}