{
  "nbformat": 4,
  "nbformat_minor": 0,
  "metadata": {
    "colab": {
      "provenance": [],
      "authorship_tag": "ABX9TyMfDjXoF7gmx/zZUnydUCrK",
      "include_colab_link": true
    },
    "kernelspec": {
      "name": "python3",
      "display_name": "Python 3"
    },
    "language_info": {
      "name": "python"
    }
  },
  "cells": [
    {
      "cell_type": "markdown",
      "metadata": {
        "id": "view-in-github",
        "colab_type": "text"
      },
      "source": [
        "<a href=\"https://colab.research.google.com/github/ashutosh12mar/Foreign-Key-Web/blob/main/Untitled15.ipynb\" target=\"_parent\"><img src=\"https://colab.research.google.com/assets/colab-badge.svg\" alt=\"Open In Colab\"/></a>"
      ]
    },
    {
      "cell_type": "code",
      "execution_count": 1,
      "metadata": {
        "id": "M1PXdShqq9If"
      },
      "outputs": [],
      "source": [
        "import numpy\n",
        "import matplotlib.pyplot as plt\n",
        "from sklearn.metrics import r2_score"
      ]
    },
    {
      "cell_type": "code",
      "source": [
        "x = [1,2,3,4,5]\n",
        "#y = [24,23,25,23,22,18,34,21,22,22]\n",
        "y = [1,4,9,16,25]\n",
        "#print(numpy.linspace(1,101,11))\n",
        "# model = numpy.poly1d(numpy.polyfit(x, y, ))\n",
        "# print(\"model=\",model(x))\n",
        "\n",
        "bestdegree=0\n",
        "bestcorrelation=0\n",
        "for degree in range(10,0,-1):\n",
        "  pf = numpy.polyfit(x, y, degree)\n",
        "  #print(\"Fit\",pf)\n",
        "  model = numpy.poly1d(pf)\n",
        "  ##print(\"model=\", model(x))\n",
        "\n",
        "  \n",
        "  correlation=r2_score(y, model(x))\n",
        "  print(\"Correlation\",correlation *100)\n",
        "  if correlation>=bestcorrelation:\n",
        "    bestcorrelation=correlation\n",
        "    bestdegree=degree\n",
        "pf = numpy.polyfit(x, y, bestdegree)\n",
        "print(\"Fit\",pf)\n",
        "model = numpy.poly1d(pf)\n",
        "plotx =[1,2,3,4,5,6]# numpy.linspace(1, 22, 100)\n",
        "print(\"best  degree\",bestdegree,\" correlation \",bestcorrelation)\n",
        "\n",
        "\n",
        "\n",
        "\n",
        "\n",
        "plt.scatter(x,y,color=\"black\")\n",
        "plt.plot(x,y,\"b-\",label=\"Original\")\n",
        "plt.plot(plotx, model(plotx),\"r-\",label=\"Predicted\")\n",
        "plt.ylabel('Tempeature')\n",
        "plt.xlabel('Date')\n",
        "plt.legend()\n",
        "plt.show()\n",
        "xvalue=4\n",
        "predict=model(xvalue)\n",
        "print(\"Predicted\",predict)"
      ],
      "metadata": {
        "colab": {
          "base_uri": "https://localhost:8080/",
          "height": 740
        },
        "id": "i043ruShrePV",
        "outputId": "11f4fefa-060e-4891-f74d-affb434faba3"
      },
      "execution_count": 2,
      "outputs": [
        {
          "output_type": "stream",
          "name": "stderr",
          "text": [
            "/usr/local/lib/python3.7/dist-packages/IPython/core/interactiveshell.py:3326: RankWarning: Polyfit may be poorly conditioned\n",
            "  exec(code_obj, self.user_global_ns, self.user_ns)\n",
            "/usr/local/lib/python3.7/dist-packages/IPython/core/interactiveshell.py:3326: RankWarning: Polyfit may be poorly conditioned\n",
            "  exec(code_obj, self.user_global_ns, self.user_ns)\n",
            "/usr/local/lib/python3.7/dist-packages/IPython/core/interactiveshell.py:3326: RankWarning: Polyfit may be poorly conditioned\n",
            "  exec(code_obj, self.user_global_ns, self.user_ns)\n",
            "/usr/local/lib/python3.7/dist-packages/IPython/core/interactiveshell.py:3326: RankWarning: Polyfit may be poorly conditioned\n",
            "  exec(code_obj, self.user_global_ns, self.user_ns)\n",
            "/usr/local/lib/python3.7/dist-packages/IPython/core/interactiveshell.py:3326: RankWarning: Polyfit may be poorly conditioned\n",
            "  exec(code_obj, self.user_global_ns, self.user_ns)\n",
            "/usr/local/lib/python3.7/dist-packages/IPython/core/interactiveshell.py:3326: RankWarning: Polyfit may be poorly conditioned\n",
            "  exec(code_obj, self.user_global_ns, self.user_ns)\n"
          ]
        },
        {
          "output_type": "stream",
          "name": "stdout",
          "text": [
            "Correlation 100.0\n",
            "Correlation 100.0\n",
            "Correlation 100.0\n",
            "Correlation 100.0\n",
            "Correlation 100.0\n",
            "Correlation 100.0\n",
            "Correlation 100.0\n",
            "Correlation 100.0\n",
            "Correlation 100.0\n",
            "Correlation 96.2566844919786\n",
            "Fit [ 1.00000000e+00 -2.10877350e-14  3.29568851e-14]\n",
            "best  degree 2  correlation  1.0\n"
          ]
        },
        {
          "output_type": "display_data",
          "data": {
            "text/plain": [
              "<Figure size 432x288 with 1 Axes>"
            ],
            "image/png": "[encoded data removed]"
          },
          "metadata": {
            "needs_background": "light"
          }
        },
        {
          "output_type": "stream",
          "name": "stdout",
          "text": [
            "Predicted 16.000000000000018\n"
          ]
        }
      ]
    }
  ]
}